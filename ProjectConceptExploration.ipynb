{
  "cells": [
    {
      "cell_type": "markdown",
      "metadata": {
        "id": "xFUhLNBKRnvk"
      },
      "source": [
        "# <center> Improved Arrhythmia Classification Using Select  </center>\n",
        "# <center>Morphological and Heart Rate Variability ECG Features. </center>\n",
        "## <center> Mark James Dunbar </center>\n",
        "\n",
        "<center>School of Electronic Engineering and Computer Science </center>\n",
        "<center>Queen Mary University of London </center>\n",
        "<center>London, United Kingdom </center>\n",
        "<center>ec21896@qmul.ac.uk </center>\n",
        "\n",
        "## <center> MSc Big Data Science - Final Project </center>\n",
        "\n",
        "\n",
        "\n",
        "---\n",
        "\n",
        "# <center>MSc Final Project Code Concept Exploration Notebook</center>\n",
        "\n",
        "\n",
        "\n",
        "In this notebook, I will explore and experiment with several of the concepts introduced throughout the project. This notebook should be seen as a \"playground\" of sorts for testing and developing several of the algorithms implemented in the final experiment and pipeline notebook."
      ]
    },
    {
      "cell_type": "code",
      "execution_count": null,
      "metadata": {
        "colab": {
          "base_uri": "https://localhost:8080/"
        },
        "id": "XzHeP0lHO-b_",
        "outputId": "99e78c18-c658-401e-ce88-122aed1ce680"
      },
      "outputs": [
        {
          "name": "stdout",
          "output_type": "stream",
          "text": [
            "Mounted at /content/drive\n"
          ]
        }
      ],
      "source": [
        "from google.colab import drive\n",
        "drive.mount('/content/drive', force_remount=True)"
      ]
    },
    {
      "cell_type": "markdown",
      "metadata": {
        "id": "Z8g4gq26Tei8"
      },
      "source": [
        "## Imports"
      ]
    },
    {
      "cell_type": "code",
      "execution_count": null,
      "metadata": {
        "colab": {
          "base_uri": "https://localhost:8080/"
        },
        "id": "UXi11-XpizNn",
        "outputId": "86890b03-f490-422e-b2cc-74498e050ab4"
      },
      "outputs": [
        {
          "name": "stdout",
          "output_type": "stream",
          "text": [
            "Looking in indexes: https://pypi.org/simple, https://us-python.pkg.dev/colab-wheels/public/simple/\n",
            "Requirement already satisfied: gatspy in /usr/local/lib/python3.7/dist-packages (0.3)\n"
          ]
        }
      ],
      "source": [
        "import datetime\n",
        "import os\n",
        "import random\n",
        "import numpy as np\n",
        "import pandas as pd\n",
        "import matplotlib\n",
        "import matplotlib.pyplot as plt\n",
        "\n",
        "import warnings\n",
        "warnings.filterwarnings('ignore')\n",
        "\n",
        "from scipy.ndimage import label\n",
        "from tqdm import tqdm, notebook\n",
        "from sklearn.model_selection import train_test_split\n",
        "from scipy.interpolate import interp1d\n",
        "from scipy import signal\n",
        "from scipy.ndimage import label\n",
        "from scipy.stats import zscore\n",
        "from scipy.integrate import trapz\n",
        "\n",
        "# Astropy\n",
        "!pip install gatspy\n",
        "from gatspy.periodic import LombScargleFast\n",
        "from gatspy.periodic import LombScargle\n",
        "\n",
        "def linebreak():\n",
        "  print('________________________________________________________________________________')"
      ]
    },
    {
      "cell_type": "markdown",
      "metadata": {
        "id": "F8p0JWlgTjiA"
      },
      "source": [
        "Here we set up config for any plotting we're doing, I like to use Times New Roman to stay in line with the project's paper."
      ]
    },
    {
      "cell_type": "code",
      "execution_count": null,
      "metadata": {
        "id": "qRmc34bTFLtf"
      },
      "outputs": [],
      "source": [
        "plt.rcParams['font.family'] = 'serif'\n",
        "plt.rcParams['font.serif'] = ['Times New Roman'] + plt.rcParams['font.serif']"
      ]
    },
    {
      "cell_type": "markdown",
      "metadata": {
        "id": "fFRwp6HuuA1b"
      },
      "source": [
        "## Data Preprocessing"
      ]
    },
    {
      "cell_type": "markdown",
      "metadata": {
        "id": "GJjOvTEVt6nY"
      },
      "source": [
        "## Segment ECG records into 5-minute samples & generate segment classifications."
      ]
    },
    {
      "cell_type": "markdown",
      "metadata": {
        "id": "gPL6fuJQbLtp"
      },
      "source": [
        "Segmenting ECGs into 5 minute intervals. This was for an earlier iteration of the model, which won't actually be used in the final pipeline."
      ]
    },
    {
      "cell_type": "code",
      "execution_count": null,
      "metadata": {
        "id": "cjahSa8Wt_w8"
      },
      "outputs": [],
      "source": [
        "extract_to = \"drive/MyDrive/data/ECG_extracted_data\"\n",
        "\n",
        "records = os.listdir(extract_to)"
      ]
    },
    {
      "cell_type": "code",
      "execution_count": null,
      "metadata": {
        "id": "3d2hJ7TOoH4x"
      },
      "outputs": [],
      "source": [
        "def segment_ecg(records, mins):\n",
        "  '''\n",
        "  Function to segment ecgs into x-minute segments (from 30 min)\n",
        "  '''\n",
        "\n",
        "  segment_samples= 128 * mins * 60\n",
        "  n_segments = 230400/segment_samples\n",
        "\n",
        "  data_matrix = []\n",
        "  labels_matrix = []\n",
        "\n",
        "\n",
        "  for record in records:\n",
        "\n",
        "    # Get the number of segments, and samples per segment\n",
        "    \n",
        "    # acquire the record\n",
        "    ecg_record = pd.read_pickle(os.path.join(extract_to,record))\n",
        "    signal = ecg_record['voltage'].tolist()\n",
        "    labels = ecg_record['label'].tolist()\n",
        "\n",
        "    i = 0\n",
        "\n",
        "    while i < n_segments:\n",
        "\n",
        "      start = (i)*segment_samples\n",
        "      end = start + segment_samples\n",
        "      segment = signal[start:end]\n",
        "\n",
        "      label_segment = labels[start:end]\n",
        "      labels = [l for l in label_segment if l not in ['N', '_']]\n",
        "\n",
        "      label_counts, c = np.unique(labels, return_counts = True)\n",
        "\n",
        "      if len(labels) == 0:\n",
        "        classifier = 'N'\n",
        "      else:\n",
        "        classifier = label_counts[c == c.max()][0]\n",
        "\n",
        "      data_matrix.append(segment)\n",
        "      labels_matrix.append(classifier)      \n",
        "\n",
        "      i += 1\n",
        "  return np.array(data_matrix), np.array(labels_matrix)\n"
      ]
    },
    {
      "cell_type": "markdown",
      "metadata": {
        "id": "aVza23iFtFGM"
      },
      "source": [
        "## Create Data Matrices, Apply Train/Test Split"
      ]
    },
    {
      "cell_type": "code",
      "execution_count": null,
      "metadata": {
        "colab": {
          "base_uri": "https://localhost:8080/"
        },
        "id": "m4q2XVL46RFI",
        "outputId": "ec342d5b-bc7a-4959-964f-8abdf3f4a450"
      },
      "outputs": [
        {
          "name": "stdout",
          "output_type": "stream",
          "text": [
            "940\n",
            "940\n",
            "236\n",
            "236\n"
          ]
        }
      ],
      "source": [
        "# Apply Segmentation\n",
        "x, y = segment_ecg(records, 5)\n",
        "\n",
        "x_train, x_val, y_train, y_val = train_test_split(x, y, test_size = 0.2)\n",
        "\n",
        "# Check Lengths\n",
        "print(len(x_train))\n",
        "print(len(y_train))\n",
        "print(len(x_val))\n",
        "print(len(y_val))"
      ]
    },
    {
      "cell_type": "markdown",
      "metadata": {
        "id": "892June0mt8x"
      },
      "source": [
        "## Inspect Data\n"
      ]
    },
    {
      "cell_type": "markdown",
      "metadata": {
        "id": "GuwCgej_aEA2"
      },
      "source": [
        "Looks like there is a massive class imbalance for normal beats, which is to be expected. This will have to be accounted for when training models. \n",
        "\n",
        "Training models that overfit is a pretty real issue here if we use accuracy as a quality metric - as the model can achieve an accuracy of ~87% by guessing that all classes are N! We therefore should look at a model performance metric like the F1 score to account for misclassification.\n",
        "\n",
        "We also see that Fusion has one class. This is going to be an issue in model training. Perhaps there are not enough Fusion beat examples to train the model?"
      ]
    },
    {
      "cell_type": "code",
      "execution_count": null,
      "metadata": {
        "colab": {
          "base_uri": "https://localhost:8080/"
        },
        "id": "LIH5nDyRmwyT",
        "outputId": "0d059b9c-677d-41cd-88c0-1bc3ab065424"
      },
      "outputs": [
        {
          "data": {
            "text/plain": [
              "N    811\n",
              "V     84\n",
              "S     44\n",
              "F      1\n",
              "dtype: int64"
            ]
          },
          "execution_count": 65,
          "metadata": {},
          "output_type": "execute_result"
        }
      ],
      "source": [
        "train_labels = pd.DataFrame(y_train)\n",
        "counts = train_labels.value_counts()\n",
        "counts"
      ]
    },
    {
      "cell_type": "markdown",
      "metadata": {
        "id": "lFalM56ytbVi"
      },
      "source": [
        "## Peak Detection Algorithm"
      ]
    },
    {
      "cell_type": "code",
      "execution_count": null,
      "metadata": {
        "id": "gN3qy-zTFBNG"
      },
      "outputs": [],
      "source": [
        "def detect_peaks(ecg_signal, peak_threshold=0.3, grouping_threshold=15):\n",
        "  '''\n",
        "  R Peak detection using cross correlation and thresholding template matching\n",
        "  '''\n",
        "\n",
        "  # Define our QRS filter - a simple sinewave\n",
        "  t = np.linspace(1.5 * np.pi, 3.5 * np.pi, 15)\n",
        "  qrs_filter = np.sin(t)\n",
        "\n",
        "  # Normalize the data\n",
        "  ecg_signal = (ecg_signal - ecg_signal.mean()) / ecg_signal.std()\n",
        "\n",
        "  # Calculate the cross correlation similarity score\n",
        "  similarity_score = np.correlate(ecg_signal, qrs_filter, mode=\"same\")\n",
        "  similarities = similarity_score / np.max(similarity_score)\n",
        "\n",
        "  # return all found peaks using peak_threshold\n",
        "  # one \"beat\" may have more than one indexed peak, so they msut be grouped\n",
        "  peak_indexes = ecg_signal[similarities > peak_threshold].index\n",
        "\n",
        "  # initialize output for grouped peaks\n",
        "  output = np.empty(0)\n",
        "\n",
        "  # Label groups of indexes that belong to the same R-peak\n",
        "  peak_groups, num_groups = label(np.diff(peak_indexes) < grouping_threshold)\n",
        "\n",
        "  # iterate through groups and take the mean as the R-peak index\n",
        "  for i in np.unique(peak_groups)[1:]:\n",
        "      peak_group = peak_indexes[np.where(peak_groups == i)]\n",
        "      output = np.append(output, round(np.median(peak_group)))\n",
        "\n",
        "  return output, similarities"
      ]
    },
    {
      "cell_type": "markdown",
      "metadata": {
        "id": "xemg5BRMtk3N"
      },
      "source": [
        "## Example ECG reading "
      ]
    },
    {
      "cell_type": "markdown",
      "metadata": {
        "id": "GkrdM3sUZ0St"
      },
      "source": [
        "Let's look at the ECG records we have for sampling"
      ]
    },
    {
      "cell_type": "code",
      "execution_count": null,
      "metadata": {
        "colab": {
          "base_uri": "https://localhost:8080/"
        },
        "id": "brimyI8iMElY",
        "outputId": "67d1c919-3f88-46d8-e91f-f6811e88f53f"
      },
      "outputs": [
        {
          "name": "stdout",
          "output_type": "stream",
          "text": [
            "['100', '103', '105', '106', '101', '108', '109', '111', '112', '113', '114', '115', '116', '118', '117', '123', '124', '121', '119', '122', '200', '201', '202', '203', '205', '208', '209', '212', '213', '210', '214', '215', '219', '220', '221', '222', '228', '230', '223', '231', '232', '233', '234', 'I01', 'I02', 'I06', 'I03', 'I05', 'I04', 'I07', 'I08', 'I10', 'I09', 'I11', 'I12', 'I13', 'I14', 'I15', 'I16', 'I17', 'I20', 'I21', 'I18', 'I19', 'I25', 'I22', 'I23', 'I24', 'I26', 'I27', 'I28', 'I29', 'I30', 'I34', 'I32', 'I33', 'I31', 'I35', 'I39', 'I38', 'I37', 'I36', 'I40', 'I41', 'I42', 'I44', 'I43', 'I45', 'I48', 'I49', 'I46', 'I47', 'I50', 'I54', 'I51', 'I52', 'I53', 'I55', 'I56', 'I57', 'I58', 'I59', 'I60', 'I62', 'I61', 'I63', 'I64', 'I65', 'I67', 'I66', 'I68', 'I69', 'I70', 'I73', 'I72', 'I71', 'I74', 'I75', '801', '802', '800', '803', '804', '806', '805', '807', '808', '810', '809', '811', '812', '820', '821', '822', '823', '824', '825', '827', '828', '826', '829', '840', '841', '842', '843', '844', '845', '846', '847', '850', '849', '848', '851', '852', '853', '854', '855', '856', '857', '859', '858', '860', '861', '863', '862', '864', '865', '866', '867', '868', '869', '871', '870', '872', '873', '874', '875', '876', '877', '881', '879', '878', '880', '882', '883', '884', '885', '886', '887', '888', '889', '890', '891', '892', '894', '893']\n"
          ]
        }
      ],
      "source": [
        "print(os.listdir(extract_to))"
      ]
    },
    {
      "cell_type": "markdown",
      "metadata": {
        "id": "ybLmLB4RZ3oT"
      },
      "source": [
        "Choose one to test peak detection on for 5 minutes of data"
      ]
    },
    {
      "cell_type": "code",
      "execution_count": null,
      "metadata": {
        "id": "Q6yfmDK1-QCi"
      },
      "outputs": [],
      "source": [
        "ecg_record = pd.read_pickle(os.path.join(extract_to,'100'))\n",
        "\n",
        "ecg_signal = ecg_record['voltage']\n",
        "label_list = ecg_record['label']\n",
        "\n",
        "# 5 mins\n",
        "start = 0\n",
        "stop = 128 * 60 * 5\n",
        "x = ecg_signal[start:stop]\n",
        "y = label_list[start:stop]\n",
        "\n",
        "r_peaks, similarities = detect_peaks(x, peak_threshold=0.2)"
      ]
    },
    {
      "cell_type": "markdown",
      "metadata": {
        "id": "15b6NBd_ZrVS"
      },
      "source": [
        "Checking out the QRS-filter matching process for a few peaks in the sample ECG."
      ]
    },
    {
      "cell_type": "code",
      "execution_count": null,
      "metadata": {
        "colab": {
          "base_uri": "https://localhost:8080/",
          "height": 849
        },
        "id": "1PKoZ9rd-RCt",
        "outputId": "4dd2730a-a683-43cc-fdef-578130369d21"
      },
      "outputs": [
        {
          "data": {
            "image/png": "[encoded data removed]",
            "text/plain": [
              "<Figure size 864x1008 with 2 Axes>"
            ]
          },
          "metadata": {
            "needs_background": "light"
          },
          "output_type": "display_data"
        }
      ],
      "source": [
        "def display_n_peaks(x, r_peaks, similarities, n_peaks=3):\n",
        "  '''\n",
        "  Show the first N peaks & their detected locations\n",
        "  '''\n",
        "\n",
        "  peaks = r_peaks[0:n_peaks]\n",
        "  x_range = x[0:max(peaks.astype(int))]\n",
        "  y_range = y[0:max(peaks.astype(int))]\n",
        "\n",
        "  # We can see where ectopic beats occur\n",
        "  ectopic_index = []\n",
        "  for sample, value in enumerate(y_range):\n",
        "    if value != 'N' and value != '_':\n",
        "      ms_time = sample/128*1000\n",
        "      ectopic_index.append(ms_time)\n",
        "\n",
        "  similarities_range = similarities[0:max(peaks.astype(int))]\n",
        "\n",
        "  # Convert samples to ms\n",
        "  ms_list = []\n",
        "  for sample, _ in enumerate(x_range):\n",
        "    ms_time = sample/128*1000\n",
        "    ms_list.append(ms_time)\n",
        "\n",
        "  peak_locs_ms = []\n",
        "  for _, peak in enumerate(peaks):\n",
        "    ms_time = peak/128*1000\n",
        "    peak_locs_ms.append(ms_time)\n",
        "\n",
        "  normalised_x = (x_range - min(x_range)) / (max(x_range) - min(x_range))\n",
        "\n",
        "  plt.figure(figsize=(12,14))\n",
        "  plt.tight_layout()\n",
        "\n",
        "  plt.subplot(211)\n",
        "  plt.plot(ms_list, normalised_x, zorder=0, label='Normalised ECG signal')\n",
        "  plt.vlines(peak_locs_ms, -1, 2, linestyles =\"dotted\", colors =\"r\", label=\"R-Peak Locations\")\n",
        "  plt.legend(prop={'size': 12})\n",
        "  plt.ylim(min(normalised_x), max(normalised_x)+0.1)\n",
        "  plt.xlim(250, 3000)\n",
        "  plt.grid(True)\n",
        "  plt.title(f\"Normalised ECG for {n_peaks-1} cardiac cycles\", fontsize=18)\n",
        "  plt.xlabel(\"Time (ms)\", fontsize=16)\n",
        "  plt.ylabel(\"Normalised Amplitude\", fontsize=16)\n",
        "\n",
        "  plt.subplot(212)\n",
        "  plt.plot(ms_list, similarities_range, zorder=0, label='Similarity Score')\n",
        "  plt.vlines(peak_locs_ms, -1, 2, linestyles =\"dotted\", colors =\"r\", label=\"R-Peak Locations\")\n",
        "  plt.legend(prop={'size': 12})\n",
        "  plt.ylim(min(similarities_range)-0.1, max(similarities_range)+0.1)\n",
        "  plt.xlim(250, 3000)\n",
        "  plt.grid(True)\n",
        "  plt.title(f\"Similarity with QRS template for {n_peaks-1} cardiac cycles\", fontsize=18)\n",
        "  plt.xlabel(\"Time (ms)\", fontsize=16)\n",
        "  plt.ylabel(\"Similarity Score\", fontsize=16)\n",
        "\n",
        "  plt.subplots_adjust(hspace=0.3)\n",
        "\n",
        "  plt.show()\n",
        "\n",
        "display_n_peaks(x, r_peaks, similarities, 4)"
      ]
    },
    {
      "cell_type": "markdown",
      "metadata": {
        "id": "-3K08gXTuxOr"
      },
      "source": [
        "## Time-Domain Feature Extraction"
      ]
    },
    {
      "cell_type": "code",
      "execution_count": null,
      "metadata": {
        "id": "LAj3cY8ORoXB"
      },
      "outputs": [],
      "source": [
        "def get_td_features(r_peaks):\n",
        "\n",
        "  '''\n",
        "  Extract time-domain HRV features from the data\n",
        "  '''\n",
        "\n",
        "  td_results = []\n",
        "  \n",
        "  rr_vals = np.diff(r_peaks)\n",
        "  rr_mean = np.mean(rr_vals)\n",
        "\n",
        "  # Mean RR Interval (ms)\n",
        "  rr_mean_ms = rr_mean*(128/100)\n",
        "  td_results.append(rr_mean_ms)\n",
        "\n",
        "  # Get Heartrates \n",
        "  heart_rates = 6000/rr_vals*(128/100)\n",
        "\n",
        "  # Mean HR (Kubios' style) (BPM)\n",
        "  k_heart_rate = 6000/rr_mean*(128/100)\n",
        "  td_results.append(k_heart_rate)\n",
        "\n",
        "  # Mean HR (BPM)\n",
        "  heart_rate = np.mean(heart_rates)\n",
        "  td_results.append(heart_rate)\n",
        "\n",
        "  # STD HR (BPM)\n",
        "  std_hr = np.std(heart_rates)\n",
        "  td_results.append(std_hr)\n",
        " \n",
        "  # MIN HR (BPM)\n",
        "  min_hr = np.min(heart_rates)\n",
        "  td_results.append(min_hr)\n",
        "\n",
        "  # MAX HR (BPM)\n",
        "  max_hr = np.max(heart_rates)\n",
        "  td_results.append(max_hr)\n",
        "\n",
        "  # RMSSD (ms)\n",
        "  rmssd = np.sqrt(np.mean(np.square(rr_vals)))\n",
        "  td_results.append(rmssd)\n",
        "  \n",
        "  # nn50 \n",
        "  nnxx = np.sum(np.abs(np.diff(rr_vals)) > 50)*1\n",
        "  td_results.append(nnxx)\n",
        "\n",
        "  # pnn50 \n",
        "  pnnxx = 100 * np.sum((np.abs(np.diff(rr_vals)) > 50)*1) / len(rr_vals)\n",
        "  td_results.append(pnnxx)\n",
        "\n",
        "  return td_results"
      ]
    },
    {
      "cell_type": "code",
      "execution_count": null,
      "metadata": {
        "id": "Z8s7sE8nVj_T"
      },
      "outputs": [],
      "source": [
        "results = get_td_features(r_peaks)\n",
        "print(results)"
      ]
    },
    {
      "cell_type": "markdown",
      "metadata": {
        "id": "jtzKGSCJu046"
      },
      "source": [
        "## Frequency-Domain Feature Extraction using Lomb's Periodigram\n"
      ]
    },
    {
      "cell_type": "code",
      "execution_count": null,
      "metadata": {
        "id": "K-HS8KjCJJc9"
      },
      "outputs": [],
      "source": [
        "rr_vals = np.diff(r_peaks)\n",
        "\n",
        "g = np.cumsum(rr_vals) / 1000.0\n",
        "f = interp1d(g, rr_vals, kind='cubic')\n",
        "\n"
      ]
    },
    {
      "cell_type": "code",
      "execution_count": null,
      "metadata": {
        "id": "049y7fGPJTLX"
      },
      "outputs": [],
      "source": [
        "# sample rate for interpolation\n",
        "fs = 500\n",
        "steps = 1 / fs\n",
        "\n",
        "# now we can sample from interpolation function\n",
        "xx = np.arange(1, np.max(g), steps)\n",
        "rr_interpolated = f(xx)"
      ]
    },
    {
      "cell_type": "code",
      "execution_count": null,
      "metadata": {
        "id": "I1FbuevjGSTn"
      },
      "outputs": [],
      "source": [
        "# import scipy.signal as signal\n",
        "\n",
        "!pip install astropy\n",
        "from astropy.stats import LombScargle\n",
        "\n",
        "fxx, pxx = LombScargle(np.arange(len(rr_vals), dtype=float), rr_vals, center_data=True).autopower(normalization='psd', samples_per_peak=1, nyquist_factor=1, method='cython')\n",
        "\n",
        "'''\n",
        "Segement found frequencies in the bands \n",
        "  - Very Low Frequency (VLF): 0-0.04Hz \n",
        "  - Low Frequency (LF): 0.04-0.15Hz \n",
        "  - High Frequency (HF): 0.15-0.4Hz\n",
        "'''\n",
        "\n",
        "cond_vlf = (fxx >= 0) & (fxx < 0.04)\n",
        "cond_lf = (fxx >= 0.04) & (fxx < 0.15)\n",
        "cond_hf = (fxx >= 0.15) & (fxx < 0.4)\n",
        "\n",
        "# calculate power in each band \n",
        "vlf = trapz(pxx[cond_vlf], fxx[cond_vlf])\n",
        "lf = trapz(pxx[cond_lf], fxx[cond_lf])\n",
        "hf = trapz(pxx[cond_hf], fxx[cond_hf])\n",
        "\n",
        "# total power\n",
        "total_power = vlf + lf + hf\n",
        "\n",
        "# frequency with the most power in each band\n",
        "peak_vlf = fxx[cond_vlf][np.argmax(pxx[cond_vlf])]\n",
        "peak_lf = fxx[cond_lf][np.argmax(pxx[cond_lf])]\n",
        "peak_hf = fxx[cond_hf][np.argmax(pxx[cond_hf])]\n",
        "\n",
        "# lf and hf fractions\n",
        "lf_nu = 100 * lf / (lf + hf)\n",
        "hf_nu = 100 * hf / (lf + hf)\n",
        "\n",
        "results = {}\n",
        "results['Power VLF (ms2)'] = vlf\n",
        "results['Power LF (ms2)'] = lf\n",
        "results['Power HF (ms2)'] = hf   \n",
        "results['Power Total (ms2)'] = total_power\n",
        "\n",
        "results['LF/HF'] = (lf/hf)\n",
        "results['Peak VLF (Hz)'] = peak_vlf\n",
        "results['Peak LF (Hz)'] = peak_lf\n",
        "results['Peak HF (Hz)'] = peak_hf\n",
        "\n",
        "results['Fraction LF (nu)'] = lf_nu\n",
        "results['Fraction HF (nu)'] = hf_nu\n",
        "\n",
        "for k, v in results.items():\n",
        "    print(\"* %s: %.10f\" % (k, v))\n",
        "\n",
        "plt.figure(figsize=(15, 10))\n",
        "plt.plot(fxx, pxx, color=\"k\", linewidth=1)\n",
        "plt.title(\"Lomb's Periodogram\", fontsize=25)\n",
        "\n",
        "# create interpolation function for plotting frequency bands\n",
        "psd_f = interp1d(fxx, pxx)\n",
        "\n",
        "# setup frequency bands for plotting\n",
        "x_vlf = np.linspace(0.0, 0.04, 100)\n",
        "x_lf = np.linspace(0.04, 0.15, 100)\n",
        "x_hf = np.linspace(0.15, 0.4, 100)\n",
        "\n",
        "plt.gca().fill_between(x_vlf, 2500, alpha=0.4, color=\"#2CBDFE\", label=\"VLF Band (0 - 0.04 Hz)\")\n",
        "plt.gca().fill_between(x_lf, 2500, alpha=0.4, color=\"#F3A0F2\", label=\"LF Band (0.04 - 0.15 Hz)\")\n",
        "plt.gca().fill_between(x_hf, 2500, alpha=0.4, color=\"#F5B14C\", label=\"HF Band (0.15 - 0.4 Hz)\")\n",
        "\n",
        "plt.gca().set_xlim(0, 0.5)\n",
        "plt.gca().set_ylim(0)\n",
        "plt.xlabel(\"Frequency (Hz)\", fontsize=20)\n",
        "plt.ylabel(\"Power Spectral Density\", fontsize=20)\n",
        "#plt.ylim(0, 0.125)\n",
        "plt.legend(fontsize=20)\n",
        "plt.show()"
      ]
    },
    {
      "cell_type": "markdown",
      "metadata": {
        "id": "jT1ZOrDTXSFv"
      },
      "source": [
        "## Testing FDD Method for Feature Extraction"
      ]
    },
    {
      "cell_type": "code",
      "execution_count": null,
      "metadata": {
        "id": "idlSzAtRJggd"
      },
      "outputs": [],
      "source": [
        "plt.figure(figsize=(20, 15))\n",
        "\n",
        "plt.subplot(211)\n",
        "plt.title(\"RR intervals\")\n",
        "plt.plot(g, rr_vals, color=\"k\", markerfacecolor=\"#2CBDFE\", markeredgewidth=0, marker=\"o\", markersize=8)\n",
        "plt.xlabel(\"Time (s)\")\n",
        "plt.ylabel(\"RR-interval (ms)\")\n",
        "plt.title(\"Interpolated\")\n",
        "plt.gca().set_xlim(0, 20)\n",
        "\n",
        "plt.subplot(212)\n",
        "plt.title(\"RR-Intervals (cubic interpolation)\")\n",
        "plt.plot(xx, rr_interpolated, color=\"k\", markerfacecolor=\"#9D2EC5\", markeredgewidth=0, marker=\"o\", markersize=8)\n",
        "plt.gca().set_xlim(0, 20)\n",
        "plt.xlabel(\"Time (s)\")\n",
        "plt.ylabel(\"RR-interval (ms)\")\n",
        "plt.show()"
      ]
    },
    {
      "cell_type": "code",
      "execution_count": null,
      "metadata": {
        "id": "Bcf802zdKSyM"
      },
      "outputs": [],
      "source": [
        "def frequency_domain(rri, fs=4):\n",
        "    # Estimate the spectral density using Welch's method\n",
        "    fxx, pxx = signal.welch(x=rr_interpolated, fs=fs)\n",
        "    \n",
        "    '''\n",
        "    Segement found frequencies in the bands \n",
        "     - Very Low Frequency (VLF): 0-0.04Hz \n",
        "     - Low Frequency (LF): 0.04-0.15Hz \n",
        "     - High Frequency (HF): 0.15-0.4Hz\n",
        "    '''\n",
        "    cond_vlf = (fxx >= 0) & (fxx < 0.04)\n",
        "    cond_lf = (fxx >= 0.04) & (fxx < 0.15)\n",
        "    cond_hf = (fxx >= 0.15) & (fxx < 0.4)\n",
        "    \n",
        "    # calculate power in each band by integrating the spectral density \n",
        "    vlf = trapz(pxx[cond_vlf], fxx[cond_vlf])\n",
        "    lf = trapz(pxx[cond_lf], fxx[cond_lf])\n",
        "    hf = trapz(pxx[cond_hf], fxx[cond_hf])\n",
        "    \n",
        "    # sum these up to get total power\n",
        "    total_power = vlf + lf + hf\n",
        "\n",
        "    # find which frequency has the most power in each band\n",
        "    peak_vlf = fxx[cond_vlf][np.argmax(pxx[cond_vlf])]\n",
        "    peak_lf = fxx[cond_lf][np.argmax(pxx[cond_lf])]\n",
        "    peak_hf = fxx[cond_hf][np.argmax(pxx[cond_hf])]\n",
        "\n",
        "    # fraction of lf and hf\n",
        "    lf_nu = 100 * lf / (lf + hf)\n",
        "    hf_nu = 100 * hf / (lf + hf)\n",
        "    \n",
        "    # Append Results\n",
        "    results = {}\n",
        "    results['Power VLF (ms2)'] = vlf\n",
        "    results['Power LF (ms2)'] = lf\n",
        "    results['Power HF (ms2)'] = hf   \n",
        "    results['Power Total (ms2)'] = total_power\n",
        "\n",
        "    results['LF/HF'] = (lf/hf)\n",
        "    results['Peak VLF (Hz)'] = peak_vlf\n",
        "    results['Peak LF (Hz)'] = peak_lf\n",
        "    results['Peak HF (Hz)'] = peak_hf\n",
        "\n",
        "    results['Fraction LF (nu)'] = lf_nu\n",
        "    results['Fraction HF (nu)'] = hf_nu\n",
        "    return results, fxx, pxx"
      ]
    },
    {
      "cell_type": "code",
      "execution_count": null,
      "metadata": {
        "id": "Xcwyr7nLKVGC"
      },
      "outputs": [],
      "source": [
        "# Print the FD metrics\n",
        "print(\"Frequency domain metrics:\")\n",
        "results, fxx, pxx = frequency_domain(rr_interpolated)\n",
        "\n",
        "# Print the results\n",
        "for k, v in results.items():\n",
        "    print(\"- %s: %.2f\" % (k, v))"
      ]
    },
    {
      "cell_type": "code",
      "execution_count": null,
      "metadata": {
        "id": "kBJ_ae3ILwFl"
      },
      "outputs": [],
      "source": [
        "plt.figure(figsize=(15, 10))\n",
        "plt.plot(fxx, pxx, color=\"k\", linewidth=0.3)\n",
        "plt.title(\"Power Spectral Density (PSD) Plot (Lomb's periodogram)\", fontsize=25)\n",
        "\n",
        "# create interpolation function for plotting frequency bands\n",
        "psd_f = interp1d(fxx, pxx)\n",
        "\n",
        "# setup frequency bands for plotting\n",
        "x_vlf = np.linspace(0, 0.04, 100)\n",
        "x_lf = np.linspace(0.04, 0.15, 100)\n",
        "x_hf = np.linspace(0.15, 0.4, 100)\n",
        "\n",
        "plt.gca().fill_between(x_vlf, psd_f(x_vlf), alpha=0.4, color=\"#2CBDFE\", label=\"VLF Band (0 - 0.04 Hz)\")\n",
        "plt.gca().fill_between(x_lf, psd_f(x_lf), alpha=0.4, color=\"#F3A0F2\", label=\"LF Band (0.04 - 0.15 Hz)\")\n",
        "plt.gca().fill_between(x_hf, psd_f(x_hf), alpha=0.4, color=\"#F5B14C\", label=\"HF Band (0.15 - 0.4 Hz)\")\n",
        "\n",
        "plt.gca().set_xlim(0, 0.5)\n",
        "plt.gca().set_ylim(0)\n",
        "plt.xlabel(\"Frequency (Hz)\", fontsize=20)\n",
        "plt.ylabel(\"Power Spectral Density (mV$^{2}$/Hz)\", fontsize=20)\n",
        "plt.ylim(0, 300)\n",
        "plt.legend(fontsize=20)\n",
        "plt.show()"
      ]
    },
    {
      "cell_type": "code",
      "execution_count": null,
      "metadata": {
        "id": "SWjcyBGou96w"
      },
      "outputs": [],
      "source": [
        "def get_fd_features(r_peaks):\n",
        "\n",
        "  '''\n",
        "  Extract frequency-domain HRV features from the data\n",
        "  '''\n",
        "\n",
        "  fd_results = []\n",
        "\n",
        "  rr_vals = np.diff(r_peaks)\n",
        "\n",
        "  g = np.cumsum(rr_vals) / 1000.0\n",
        "  f = interp1d(g, rr_vals, kind='cubic', fill_value='extrapolate')\n",
        "\n",
        "  # sample rate for interpolation\n",
        "  fs = 4\n",
        "  steps = 1 / fs\n",
        "\n",
        "  # now we can sample from interpolation function\n",
        "  xx = np.arange(1, np.max(g), steps)\n",
        "  rr_interpolated = f(xx)\n",
        "\n",
        "  # Estimate the spectral density using Welch's method\n",
        "  fxx, pxx = signal.welch(x=rr_interpolated, fs=fs)\n",
        "\n",
        "  vlf_range = (fxx >= 0) & (fxx < 0.04)\n",
        "  lf_range = (fxx >= 0.04) & (fxx < 0.15)\n",
        "  hf_range = (fxx >= 0.15) & (fxx < 0.4)\n",
        "  \n",
        "  # calculate power in each band by integrating the spectral density \n",
        "  vlf = trapz(pxx[vlf_range], fxx[vlf_range])\n",
        "  fd_results.append(vlf)\n",
        "\n",
        "  lf = trapz(pxx[lf_range], fxx[lf_range])\n",
        "  fd_results.append(lf)\n",
        "\n",
        "  hf = trapz(pxx[hf_range], fxx[hf_range])\n",
        "  fd_results.append(hf)\n",
        "  \n",
        "  # sum these up to get total power\n",
        "  total_power = vlf + lf + hf\n",
        "  fd_results.append(total_power)\n",
        "\n",
        "  # lf to hf fraction\n",
        "  fd_results.append(lf/hf)\n",
        "\n",
        "  if len(pxx[vlf_range])> 1:\n",
        "    # find which frequency has the most power in each band\n",
        "    peak_vlf = fxx[vlf_range][np.argmax(pxx[vlf_range])]\n",
        "    fd_results.append(peak_vlf)\n",
        "  elif len(pxx[vlf_range])> 0: \n",
        "    peak_vlf = pxx[vlf_range][0]\n",
        "    fd_results.append(peak_vlf)\n",
        "  else:\n",
        "    peak_vlf = 0\n",
        "    fd_results.append(peak_vlf)\n",
        "\n",
        "  # peak_lf = fxx[lf_range][np.argmax(pxx[lf_range])]\n",
        "  # fd_results.append(peak_lf)\n",
        "  if len(pxx[lf_range])> 1:\n",
        "    # find which frequency has the most power in each band\n",
        "    peak_lf = fxx[lf_range][np.argmax(pxx[lf_range])]\n",
        "    fd_results.append(peak_lf)\n",
        "  elif len(pxx[lf_range])> 0: \n",
        "    peak_lf = pxx[lf_range][0]\n",
        "    fd_results.append(peak_lf)\n",
        "  else:\n",
        "    peak_lf = 0\n",
        "    fd_results.append(peak_lf)\n",
        "\n",
        "  # peak_hf = fxx[hf_range][np.argmax(pxx[hf_range])]\n",
        "  # fd_results.append(peak_hf)\n",
        "  if len(pxx[hf_range])> 1:\n",
        "    # find which frequency has the most power in each band\n",
        "    peak_hf = fxx[hf_range][np.argmax(pxx[hf_range])]\n",
        "    fd_results.append(peak_hf)\n",
        "  elif len(pxx[hf_range])> 0: \n",
        "    peak_hf = pxx[hf_range][0]\n",
        "    fd_results.append(peak_hf)\n",
        "  else:\n",
        "    peak_hf = 0\n",
        "    fd_results.append(peak_hf)\n",
        "\n",
        "  # fraction of lf and hf\n",
        "  lf_nu = 100 * lf / (lf + hf)\n",
        "  fd_results.append(lf_nu)\n",
        "\n",
        "  hf_nu = 100 * hf / (lf + hf)     \n",
        "  fd_results.append(hf_nu)\n",
        "\n",
        "  return fd_results"
      ]
    },
    {
      "cell_type": "code",
      "execution_count": null,
      "metadata": {
        "id": "lF4KewrLTYb0"
      },
      "outputs": [],
      "source": [
        "results = get_fd_features(r_peaks)\n",
        "print(results)"
      ]
    },
    {
      "cell_type": "markdown",
      "metadata": {
        "id": "vfKsabZfXjY9"
      },
      "source": [
        "## Extracting All Features"
      ]
    },
    {
      "cell_type": "code",
      "execution_count": null,
      "metadata": {
        "id": "Q9TETzFzWQb7"
      },
      "outputs": [],
      "source": [
        "def extract_features(r_peaks):\n",
        "\n",
        "  td_features = get_td_features(r_peaks)\n",
        "  fd_features = get_fd_features(r_peaks)\n",
        "\n",
        "  features = td_features + fd_features\n",
        "\n",
        "  return features\n",
        "  # should be len 16"
      ]
    },
    {
      "cell_type": "markdown",
      "metadata": {
        "id": "Kx_Dw9MrfsBl"
      },
      "source": [
        "In the code below, there are some cases where less than 3 r-peaks are detected. This will be fixed later when we choose an appropriate peak detection threshold."
      ]
    },
    {
      "cell_type": "code",
      "execution_count": null,
      "metadata": {
        "id": "njeJ74PcWrRK"
      },
      "outputs": [],
      "source": [
        "features_matrix = []\n",
        "failures = []\n",
        "\n",
        "for index, ecg_record in tqdm(enumerate(x_train)):\n",
        "\n",
        "  ecg_record = pd.Series(ecg_record)\n",
        "\n",
        "  r_peaks, similarities = detect_peaks(ecg_record, peak_threshold=0.3)\n",
        "\n",
        "  if len(r_peaks) < 3:\n",
        "    print(f\" Failure on index {index}\")\n",
        "    failures.append(index)\n",
        "\n",
        "  else:\n",
        "    features = extract_features(r_peaks)\n",
        "    features_matrix.append(features)"
      ]
    },
    {
      "cell_type": "markdown",
      "metadata": {
        "id": "UNo4XNKXjPaX"
      },
      "source": [
        "## Checking out the features extracted from the training data"
      ]
    },
    {
      "cell_type": "markdown",
      "metadata": {
        "id": "OOlrfg5LYdCH"
      },
      "source": [
        "Checking out the Training data shape"
      ]
    },
    {
      "cell_type": "code",
      "execution_count": null,
      "metadata": {
        "id": "qlVI-ICzE7iF"
      },
      "outputs": [],
      "source": [
        "print(x_train.shape)\n",
        "print(y_train.shape)"
      ]
    },
    {
      "cell_type": "markdown",
      "metadata": {
        "id": "yzrzDrhfYO6U"
      },
      "source": [
        "Checking out the labels dataframe containing the labels for every heartbeat in the training dataset"
      ]
    },
    {
      "cell_type": "code",
      "execution_count": null,
      "metadata": {
        "id": "JtgqlRr9xROJ"
      },
      "outputs": [],
      "source": [
        "y_train = pd.DataFrame(y_train, columns = ['Label'])\n",
        "y_train"
      ]
    },
    {
      "cell_type": "markdown",
      "metadata": {
        "id": "yCG_munVYv8A"
      },
      "source": [
        "Producing a dataframe, X, of the extracted features"
      ]
    },
    {
      "cell_type": "code",
      "execution_count": null,
      "metadata": {
        "id": "Tk3j2vyJkiYU"
      },
      "outputs": [],
      "source": [
        "columns = [\n",
        "           'Mean RR Interval (ms)',\n",
        "           'Kubios Mean HR (BPM)',\n",
        "           'Mean HR (BPM)',\n",
        "           'HR Standard Deviation (BPM)',\n",
        "           'Min HR (BPM)',\n",
        "           'Max HR (BPM)',\n",
        "           'RMSSD (ms)',\n",
        "           'nn50',\n",
        "           'pnn50',\n",
        "           'VLF Power',\n",
        "           'LF Power',\n",
        "           'HF Power',\n",
        "           'Total Power',\n",
        "           'LF/HF Fract',\n",
        "           'Peak VLF',\n",
        "           'Peak LF',\n",
        "           'Peak HF',\n",
        "           'LF Fract',\n",
        "           'HF Fract',\n",
        "]\n",
        "\n",
        "x_train = pd.DataFrame(features_matrix, columns = columns)"
      ]
    },
    {
      "cell_type": "markdown",
      "metadata": {
        "id": "n69AETmQYqYk"
      },
      "source": [
        "Data types for each of the feature columns of X"
      ]
    },
    {
      "cell_type": "code",
      "execution_count": null,
      "metadata": {
        "id": "_eBi2HixwPXK"
      },
      "outputs": [],
      "source": [
        "x_train.dtypes"
      ]
    },
    {
      "cell_type": "markdown",
      "metadata": {
        "id": "fNmkj-UeXw9v"
      },
      "source": [
        "Checking out the HRV features dataframe produced for each heartbeat in the training dataset"
      ]
    },
    {
      "cell_type": "code",
      "execution_count": null,
      "metadata": {
        "id": "lGCXJG3zD9GH"
      },
      "outputs": [],
      "source": [
        "x_train.head()"
      ]
    },
    {
      "cell_type": "markdown",
      "metadata": {
        "id": "5y5OHOJKY4Ym"
      },
      "source": [
        "Did we get any NANs? If so, we'll fix this in the final pipeline."
      ]
    },
    {
      "cell_type": "code",
      "execution_count": null,
      "metadata": {
        "id": "pb9v6LCr5YBT"
      },
      "outputs": [],
      "source": [
        "nans = np.where(np.isnan(x_train).any(axis=1))[0].tolist()\n",
        "print(nans)"
      ]
    }
  ],
  "metadata": {
    "colab": {
      "collapsed_sections": [],
      "name": "ProjectConceptExploration.ipynb",
      "provenance": []
    },
    "kernelspec": {
      "display_name": "Python 3",
      "name": "python3"
    },
    "language_info": {
      "name": "python"
    }
  },
  "nbformat": 4,
  "nbformat_minor": 0
}
